{
 "cells": [
  {
   "attachments": {},
   "cell_type": "markdown",
   "id": "4217d98d",
   "metadata": {},
   "source": [
    "# Data Science Tools and Ecosystem\n",
    "In this notebook, Data Science Tools and Ecosystem are summarized.\n",
    "\n",
    "Some of the popular languages that Data Scientists use are:\n",
    "1. Python\n",
    "2. R\n",
    "3. SQL\n",
    "\n",
    "Some of the commonly used libraries used by Data Scientists include:\n",
    "1. Pandas (pyhton)\n",
    "2. Numpy (python)\n",
    "3. Matplotlib (python)\n",
    "4. Sklearn (python)\n",
    "5. TensorFlow (python)\n",
    "\n",
    "\n",
    "## Data Science tools.\n",
    "|Tools Name| OpenSource|\n",
    "|:----------:|:-----------:|\n",
    "|Jupyter Notebook|Yes|\n",
    "|GitHub|Yes|\n",
    "|Anaconda|Yes|\n",
    "|VS Code|Yes|\n",
    "\n",
    "\n",
    "## Below are a few aritmethic expressions in Python\n"
   ]
  },
  {
   "cell_type": "code",
   "execution_count": 3,
   "id": "651088d0",
   "metadata": {
    "scrolled": true
   },
   "outputs": [
    {
     "data": {
      "text/plain": [
       "17"
      ]
     },
     "execution_count": 3,
     "metadata": {},
     "output_type": "execute_result"
    }
   ],
   "source": [
    "(3*4)+5"
   ]
  },
  {
   "cell_type": "code",
   "execution_count": 4,
   "id": "7bb1e35b",
   "metadata": {},
   "outputs": [
    {
     "data": {
      "text/plain": [
       "33.333333333333336"
      ]
     },
     "execution_count": 4,
     "metadata": {},
     "output_type": "execute_result"
    }
   ],
   "source": [
    "#This will convert 200 minutes to hours by diving 60\n",
    "200 / 6"
   ]
  },
  {
   "cell_type": "markdown",
   "id": "30485fc1",
   "metadata": {},
   "source": [
    "__Objectives:__\n",
    "- List Popular Languages in Data science\n",
    "- List of commonly used libraries in Data Science\n",
    "- List of Tools for Data Science\n"
   ]
  },
  {
   "cell_type": "markdown",
   "id": "a57bff07",
   "metadata": {},
   "source": [
    "## Author\n",
    "Author: Eleison Cruz"
   ]
  }
 ],
 "metadata": {
  "kernelspec": {
   "display_name": "Python 3 (ipykernel)",
   "language": "python",
   "name": "python3"
  },
  "language_info": {
   "codemirror_mode": {
    "name": "ipython",
    "version": 3
   },
   "file_extension": ".py",
   "mimetype": "text/x-python",
   "name": "python",
   "nbconvert_exporter": "python",
   "pygments_lexer": "ipython3",
   "version": "3.10.9"
  }
 },
 "nbformat": 4,
 "nbformat_minor": 5
}
